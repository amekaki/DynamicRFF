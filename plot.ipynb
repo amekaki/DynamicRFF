{
 "cells": [
  {
   "cell_type": "code",
   "execution_count": null,
   "metadata": {
    "vscode": {
     "languageId": "plaintext"
    }
   },
   "outputs": [],
   "source": [
    "from trainer_rff_classify import Trainer as rffTrainer\n",
    "from trainer_user import Trainer as userTrainer\n",
    "from src.datasetv4 import RFdataset\n",
    "from src.evaluation import *\n",
    "from sklearn.metrics.pairwise import pairwise_distances\n",
    "import numpy as np\n",
    "import matplotlib.pyplot as plt\n",
    "from sklearn.metrics import pairwise_distances\n",
    "from sklearn.manifold import TSNE\n",
    "from collections import Counter\n",
    "from scipy.stats import mode\n",
    "import matplotlib.pyplot as plt"
   ]
  }
 ],
 "metadata": {
  "language_info": {
   "name": "python"
  }
 },
 "nbformat": 4,
 "nbformat_minor": 2
}
